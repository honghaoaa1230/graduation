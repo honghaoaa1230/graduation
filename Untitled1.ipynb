{
 "cells": [
  {
   "cell_type": "code",
   "execution_count": 1,
   "metadata": {},
   "outputs": [],
   "source": [
    "import tensorflow as tf\n",
    "from PIL import Image\n",
    "import numpy as np\n",
    "from urllib.request import urlretrieve\n",
    "\n",
    "from train import CNN\n"
   ]
  },
  {
   "cell_type": "code",
   "execution_count": 9,
   "metadata": {},
   "outputs": [],
   "source": [
    "# class Predict(object):\n",
    "#     def __init__(self):\n",
    "#         latest = tf.train.latest_checkpoint('./ckpt')\n",
    "#         self.cnn = CNN()\n",
    "#         # 恢复网络权重\n",
    "#         self.cnn.model.load_weights(latest)\n",
    "\n",
    "#     def predict(self, image_path):\n",
    "#         # 以黑白方式读取图片\n",
    "#         img = Image.open(image_path).convert('L')\n",
    "#         img = img.resize((28, 28),Image.ANTIALIAS)\n",
    "#         flatten_img = np.reshape(img, (28, 28, 1))\n",
    "#         x = np.array([1 - flatten_img])\n",
    "\n",
    "#         # API refer: https://keras.io/models/model/\n",
    "#         y = self.cnn.model.predict(x)\n",
    "\n",
    "#         # 因为x只传入了一张图片，取y[0]即可\n",
    "#         # np.argmax()取得最大值的下标，即代表的数字\n",
    "#         print(image_path)\n",
    "#         print(y[0])\n",
    "#         print('        -> Predict digit', np.argmax(y[0]))\n",
    "picnum = 10\n",
    "class Predict1(object):\n",
    "    def __init__(self):\n",
    "        latest = tf.train.latest_checkpoint('./ckpt')\n",
    "        self.cnn = CNN()\n",
    "        # 恢复网络权重\n",
    "        self.cnn.model.load_weights(latest)\n",
    "\n",
    "    def predict(self,image_url):\n",
    "        # 以黑白方式读取图片\n",
    "        global picnum\n",
    "        urlretrieve(image_url, '../test_images/%s.png' % picnum)\n",
    "        image_path1 = '../test_images/' + str(picnum) + '.png'\n",
    "        img = Image.open(image_path1).convert('L')\n",
    "        img = img.resize((28, 28),Image.ANTIALIAS)\n",
    "        flatten_img = np.reshape(img, (28, 28, 1))\n",
    "        x = np.array([1 - flatten_img])\n",
    "        # API refer: https://keras.io/models/model/\n",
    "        y = self.cnn.model.predict(x)\n",
    "\n",
    "        # 因为x只传入了一张图片，取y[0]即可\n",
    "        # np.argmax()取得最大值的下标，即代表的数字\n",
    "        print(image_path1)\n",
    "        print(y[0])\n",
    "        print('        -> Predict digit', np.argmax(y[0]))\n",
    "        picnum +=1"
   ]
  },
  {
   "cell_type": "code",
   "execution_count": 18,
   "metadata": {},
   "outputs": [
    {
     "name": "stdout",
     "output_type": "stream",
     "text": [
      "Model: \"sequential_9\"\n",
      "_________________________________________________________________\n",
      "Layer (type)                 Output Shape              Param #   \n",
      "=================================================================\n",
      "conv2d_27 (Conv2D)           (None, 26, 26, 32)        320       \n",
      "_________________________________________________________________\n",
      "max_pooling2d_18 (MaxPooling (None, 13, 13, 32)        0         \n",
      "_________________________________________________________________\n",
      "conv2d_28 (Conv2D)           (None, 11, 11, 64)        18496     \n",
      "_________________________________________________________________\n",
      "max_pooling2d_19 (MaxPooling (None, 5, 5, 64)          0         \n",
      "_________________________________________________________________\n",
      "conv2d_29 (Conv2D)           (None, 3, 3, 64)          36928     \n",
      "_________________________________________________________________\n",
      "flatten_9 (Flatten)          (None, 576)               0         \n",
      "_________________________________________________________________\n",
      "dense_18 (Dense)             (None, 64)                36928     \n",
      "_________________________________________________________________\n",
      "dense_19 (Dense)             (None, 10)                650       \n",
      "=================================================================\n",
      "Total params: 93,322\n",
      "Trainable params: 93,322\n",
      "Non-trainable params: 0\n",
      "_________________________________________________________________\n",
      "../test_images/19.png\n",
      "[0. 0. 0. 0. 0. 0. 0. 0. 1. 0.]\n",
      "        -> Predict digit 8\n",
      "../test_images/20.png\n",
      "[0. 0. 1. 0. 0. 0. 0. 0. 0. 0.]\n",
      "        -> Predict digit 2\n",
      "../test_images/21.png\n",
      "[0. 0. 1. 0. 0. 0. 0. 0. 0. 0.]\n",
      "        -> Predict digit 2\n"
     ]
    }
   ],
   "source": [
    "if __name__ == \"__main__\":\n",
    "#     app = Predict()\n",
    "#     app.predict('../test_images/0.png')\n",
    "#     app.predict('../test_images/1.png')\n",
    "#     app.predict('../test_images/4.png')\n",
    "#     app.predict('../test_images/7.png')\n",
    "#     app.predict('../test_images/7_1.png')\n",
    "#     app.predict('../test_images/8.png')\n",
    "#     app.predict('../test_images/8_2.png')\n",
    "#     app.predict('../test_images/6.png')\n",
    "#     app.predict('../test_images/6_2.png')\n",
    "    app1 = Predict1()\n",
    "    app1.predict('https://s1.ax1x.com/2020/05/17/YRZYFA.png')\n",
    "    app1.predict('https://s1.ax1x.com/2020/05/17/YRQZn0.png')\n",
    "    app1.predict('https://i.ibb.co/VB2Zqtk/2.png')"
   ]
  },
  {
   "cell_type": "code",
   "execution_count": 51,
   "metadata": {},
   "outputs": [],
   "source": [
    "picnum = 1\n",
    "picnum +=1\n",
    "if picnum == 2:\n",
    "    url = 'https://s1.ax1x.com/2020/05/17/YRZYFA.png'\n",
    "    from urllib.request import urlretrieve\n",
    "    urlretrieve(url, '../test_images/%s.png' % picnum)\n",
    "else:\n",
    "    print(picnum)"
   ]
  },
  {
   "cell_type": "code",
   "execution_count": 56,
   "metadata": {},
   "outputs": [
    {
     "name": "stdout",
     "output_type": "stream",
     "text": [
      "../test_images/11.png\n"
     ]
    }
   ],
   "source": [
    "picnum1 = 11 \n",
    "def predict(self):\n",
    "    # 以黑白方式读取图片\n",
    "    from urllib.request import urlretrieve\n",
    "    urlretrieve(self, '../test_images/%s.png' % picnum1)\n",
    "    image_path = '../test_images/' + str(picnum1) + '.png'\n",
    "    print(image_path)\n",
    "predict('https://s1.ax1x.com/2020/05/17/YRZYFA.png')"
   ]
  },
  {
   "cell_type": "code",
   "execution_count": null,
   "metadata": {},
   "outputs": [],
   "source": []
  }
 ],
 "metadata": {
  "kernelspec": {
   "display_name": "Python 3",
   "language": "python",
   "name": "python3"
  },
  "language_info": {
   "codemirror_mode": {
    "name": "ipython",
    "version": 3
   },
   "file_extension": ".py",
   "mimetype": "text/x-python",
   "name": "python",
   "nbconvert_exporter": "python",
   "pygments_lexer": "ipython3",
   "version": "3.7.6"
  }
 },
 "nbformat": 4,
 "nbformat_minor": 4
}
