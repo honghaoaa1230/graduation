{
 "cells": [
  {
   "cell_type": "code",
   "execution_count": 1,
   "metadata": {},
   "outputs": [],
   "source": [
    "import os\n",
    "import tensorflow as tf\n",
    "from tensorflow.keras import datasets, layers, models"
   ]
  },
  {
   "cell_type": "code",
   "execution_count": 2,
   "metadata": {},
   "outputs": [],
   "source": [
    "class CNN(object):\n",
    "    def __init__(self):\n",
    "        model = models.Sequential()\n",
    "        # 第1层卷积，卷积核大小为3*3，32个，28*28为待训练图片的大小\n",
    "        model.add(layers.Conv2D(\n",
    "            32, (3, 3), activation='relu', input_shape=(28, 28, 1)))\n",
    "        model.add(layers.MaxPooling2D((2, 2)))\n",
    "        # 第2层卷积，卷积核大小为3*3，64个\n",
    "        model.add(layers.Conv2D(64, (3, 3), activation='relu'))\n",
    "        model.add(layers.MaxPooling2D((2, 2)))\n",
    "        # 第3层卷积，卷积核大小为3*3，64个\n",
    "        model.add(layers.Conv2D(64, (3, 3), activation='relu'))\n",
    "\n",
    "        model.add(layers.Flatten())\n",
    "        model.add(layers.Dense(64, activation='relu'))\n",
    "        model.add(layers.Dense(10, activation='softmax'))\n",
    "\n",
    "        model.summary()\n",
    "\n",
    "        self.model = model"
   ]
  },
  {
   "cell_type": "code",
   "execution_count": 25,
   "metadata": {},
   "outputs": [],
   "source": [
    "class DataSource(object):\n",
    "    def __init__(self):\n",
    "        # mnist数据集存储的位置，如何不存在将自动下载\n",
    "        __file__ = 'D:/workspace/tensorflow-tutorial-samples/mnist'\n",
    "        data_path = os.path.abspath(os.path.dirname(__file__)) + '\\\\mnist\\\\data_set_tf2\\\\mnist.npz'\n",
    "        (train_images, train_labels), (test_images,\n",
    "                                       test_labels) = datasets.mnist.load_data(path=data_path)\n",
    "        # 6万张训练图片，1万张测试图片\n",
    "        train_images = train_images.reshape((60000, 28, 28, 1))\n",
    "        test_images = test_images.reshape((10000, 28, 28, 1))\n",
    "        # 像素值映射到 0 - 1 之间\n",
    "        train_images, test_images = train_images / 255.0, test_images / 255.0\n",
    "\n",
    "        self.train_images, self.train_labels = train_images, train_labels\n",
    "        self.test_images, self.test_labels = test_images, test_labels"
   ]
  },
  {
   "cell_type": "code",
   "execution_count": 26,
   "metadata": {},
   "outputs": [],
   "source": [
    "class Train:\n",
    "    def __init__(self):\n",
    "        self.cnn = CNN()\n",
    "        self.data = DataSource()\n",
    "\n",
    "    def train(self):\n",
    "        check_path = './ckpt/cp-{epoch:04d}.ckpt'\n",
    "        # period 每隔5epoch保存一次\n",
    "        save_model_cb = tf.keras.callbacks.ModelCheckpoint(\n",
    "            check_path, save_weights_only=True, verbose=1, period=5)\n",
    "\n",
    "        self.cnn.model.compile(optimizer='adam',\n",
    "                               loss='sparse_categorical_crossentropy',\n",
    "                               metrics=['accuracy'])\n",
    "        self.cnn.model.fit(self.data.train_images, self.data.train_labels,\n",
    "                           epochs=5, callbacks=[save_model_cb])\n",
    "\n",
    "        test_loss, test_acc = self.cnn.model.evaluate(\n",
    "            self.data.test_images, self.data.test_labels)\n",
    "        print(\"准确率: %.4f，共测试了%d张图片 \" % (test_acc, len(self.data.test_labels)))"
   ]
  },
  {
   "cell_type": "code",
   "execution_count": 27,
   "metadata": {},
   "outputs": [
    {
     "name": "stdout",
     "output_type": "stream",
     "text": [
      "Model: \"sequential_7\"\n",
      "_________________________________________________________________\n",
      "Layer (type)                 Output Shape              Param #   \n",
      "=================================================================\n",
      "conv2d_21 (Conv2D)           (None, 26, 26, 32)        320       \n",
      "_________________________________________________________________\n",
      "max_pooling2d_14 (MaxPooling (None, 13, 13, 32)        0         \n",
      "_________________________________________________________________\n",
      "conv2d_22 (Conv2D)           (None, 11, 11, 64)        18496     \n",
      "_________________________________________________________________\n",
      "max_pooling2d_15 (MaxPooling (None, 5, 5, 64)          0         \n",
      "_________________________________________________________________\n",
      "conv2d_23 (Conv2D)           (None, 3, 3, 64)          36928     \n",
      "_________________________________________________________________\n",
      "flatten_7 (Flatten)          (None, 576)               0         \n",
      "_________________________________________________________________\n",
      "dense_14 (Dense)             (None, 64)                36928     \n",
      "_________________________________________________________________\n",
      "dense_15 (Dense)             (None, 10)                650       \n",
      "=================================================================\n",
      "Total params: 93,322\n",
      "Trainable params: 93,322\n",
      "Non-trainable params: 0\n",
      "_________________________________________________________________\n",
      "WARNING:tensorflow:`period` argument is deprecated. Please use `save_freq` to specify the frequency in number of samples seen.\n",
      "Train on 60000 samples\n",
      "Epoch 1/5\n",
      "60000/60000 [==============================] - 32s 537us/sample - loss: 0.1490 - accuracy: 0.9549\n",
      "Epoch 2/5\n",
      "60000/60000 [==============================] - 38s 627us/sample - loss: 0.0473 - accuracy: 0.9851\n",
      "Epoch 3/5\n",
      "60000/60000 [==============================] - 36s 608us/sample - loss: 0.0344 - accuracy: 0.9897\n",
      "Epoch 4/5\n",
      "60000/60000 [==============================] - 38s 632us/sample - loss: 0.0245 - accuracy: 0.9923\n",
      "Epoch 5/5\n",
      "59936/60000 [============================>.] - ETA: 0s - loss: 0.0213 - accuracy: 0.9936\n",
      "Epoch 00005: saving model to ./ckpt/cp-0005.ckpt\n",
      "60000/60000 [==============================] - 47s 783us/sample - loss: 0.0213 - accuracy: 0.9936\n",
      "10000/10000 [==============================] - 4s 379us/sample - loss: 0.0576 - accuracy: 0.9830\n",
      "准确率: 0.9830，共测试了10000张图片 \n"
     ]
    }
   ],
   "source": [
    "if __name__ == \"__main__\":\n",
    "    app = Train()\n",
    "    app.train()"
   ]
  },
  {
   "cell_type": "code",
   "execution_count": null,
   "metadata": {},
   "outputs": [],
   "source": []
  }
 ],
 "metadata": {
  "kernelspec": {
   "display_name": "Python 3",
   "language": "python",
   "name": "python3"
  },
  "language_info": {
   "codemirror_mode": {
    "name": "ipython",
    "version": 3
   },
   "file_extension": ".py",
   "mimetype": "text/x-python",
   "name": "python",
   "nbconvert_exporter": "python",
   "pygments_lexer": "ipython3",
   "version": "3.7.6"
  }
 },
 "nbformat": 4,
 "nbformat_minor": 4
}
